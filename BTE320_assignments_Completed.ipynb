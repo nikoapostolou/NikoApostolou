{
  "nbformat": 4,
  "nbformat_minor": 0,
  "metadata": {
    "colab": {
      "provenance": [],
      "authorship_tag": "ABX9TyNnNShxZmVFhqTohHnik3oR",
      "include_colab_link": true
    },
    "kernelspec": {
      "name": "python3",
      "display_name": "Python 3"
    },
    "language_info": {
      "name": "python"
    }
  },
  "cells": [
    {
      "cell_type": "markdown",
      "metadata": {
        "id": "view-in-github",
        "colab_type": "text"
      },
      "source": [
        "<a href=\"https://colab.research.google.com/github/nikoapostolou/NikoApostolou/blob/main/BTE320_assignments_Completed.ipynb\" target=\"_parent\"><img src=\"https://colab.research.google.com/assets/colab-badge.svg\" alt=\"Open In Colab\"/></a>"
      ]
    },
    {
      "cell_type": "code",
      "execution_count": 14,
      "metadata": {
        "colab": {
          "base_uri": "https://localhost:8080/"
        },
        "id": "aA2F1m1h2Wmm",
        "outputId": "b9594078-2bef-4a09-b64c-a70fc22b69a4"
      },
      "outputs": [
        {
          "output_type": "stream",
          "name": "stdout",
          "text": [
            "Provide a value for the radius (in ft): 8\n",
            "Provide a value for side: 6\n",
            "Provide a value for height: 2\n",
            "Area is 502.40000000000003 sq ft.\n",
            "Program Ends...\n"
          ]
        }
      ],
      "source": [
        "# Shape Area Calculator\n",
        "\n",
        "pi = 3.14\n",
        "r = float(input(\"Provide a value for the radius (in ft): \"))\n",
        "c = float(input(\"Provide a value for side: \"))\n",
        "h = float(input(\"Provide a value for height: \"))\n",
        "shape = 'cylinder'\n",
        "\n",
        "if shape == 'circle':\n",
        "  area = pi * r ** 2\n",
        "  print(f'Area is {area} sq ft.')\n",
        "\n",
        "elif shape == 'sq':\n",
        "  area = c ** 2\n",
        "  print(f'Area is {area} sq ft.')\n",
        "\n",
        "elif shape =='triangle':\n",
        "  area = .5 * c * h\n",
        "  print(f'Area is {area} sq ft.')\n",
        "\n",
        "elif shape == 'cylinder':\n",
        "  area = 2 * pi * r * h + 2 * pi * r ** 2\n",
        "  print(f'Area is {area} sq ft.')\n",
        "\n",
        "print(\"Program Ends...\")"
      ]
    },
    {
      "cell_type": "code",
      "source": [
        "# Rock-paper-scissors (with the while loop)\n",
        "\n",
        "import random\n",
        "choice = str(input('Do you want to play a game? ')).lower()\n",
        "\n",
        "while choice == 'yes':\n",
        "  p1 = input('Player 1 - Choose rock, paper, or scissors: ').lower()\n",
        "  p2 = random.choice(['rock', 'paper', 'scissors'])\n",
        "  print(f'Computer chose {p2}.')\n",
        "  if p1 == p2:\n",
        "    print('Draw')\n",
        "  elif (p1 == 'rock' and p2 == 'scissors') or (p1 == 'scissors' and p2 == 'paper') or (p1 == 'paper' and p2 == 'rock'):\n",
        "   print('Player 1 wins')\n",
        "  else:\n",
        "    print('Player 2 wins')\n",
        "\n",
        "  choice = str(input('Do you want to play another game? '))"
      ],
      "metadata": {
        "colab": {
          "base_uri": "https://localhost:8080/"
        },
        "id": "Hzl1xEwi2p9v",
        "outputId": "1ea2bc6a-4154-4893-fa4c-2415eebe892c"
      },
      "execution_count": 17,
      "outputs": [
        {
          "name": "stdout",
          "output_type": "stream",
          "text": [
            "Do you want to play a game? yes\n",
            "Player 1 - Choose rock, paper, or scissors: rock\n",
            "Computer chose scissors.\n",
            "Player 1 wins\n",
            "Do you want to play another game? no\n"
          ]
        }
      ]
    },
    {
      "cell_type": "code",
      "source": [
        "# Numerical calculator\n",
        "\n",
        "n1 = float(input('Number: '))\n",
        "n2 = float(input('Number: '))\n",
        "s = str(input('Choose operation +, -, *, /, **: '))\n",
        "\n",
        "if s == '+':\n",
        "  a = n1 + n2\n",
        "  print(f'The answer is: {a}')\n",
        "elif s == '-':\n",
        "  a = n1 - n2\n",
        "  print(f'The answer is: {a}')\n",
        "elif s == '*':\n",
        "  a = n1 * n2\n",
        "  print(f'The answer is: {a}')\n",
        "elif s == '/':\n",
        "  a = n1 / n2\n",
        "  print(f'The answer is: {a}')\n",
        "elif s == '**':\n",
        "  a = n1 ** n2\n",
        "  print(f'The answer is: {a}')\n",
        "else:\n",
        "  print('Error')"
      ],
      "metadata": {
        "colab": {
          "base_uri": "https://localhost:8080/"
        },
        "id": "TRk3u7mQ2ta0",
        "outputId": "4ed4703d-a07d-42d1-9f6e-610632da8983"
      },
      "execution_count": 15,
      "outputs": [
        {
          "output_type": "stream",
          "name": "stdout",
          "text": [
            "Number: 2\n",
            "Number: 3\n",
            "Choose operation +, -, *, /, **: *\n",
            "The answer is: 6.0\n"
          ]
        }
      ]
    },
    {
      "cell_type": "code",
      "source": [
        "# Parking garage\n",
        "\n",
        "varFee = 5\n",
        "flatFee = 2.5\n",
        "\n",
        "for hour in range(1, 9, 1):\n",
        "  charge = flatFee + varFee * hour\n",
        "  if charge < 10:\n",
        "    charge = 10\n",
        "  elif charge > 20:\n",
        "    charge = 20\n",
        "  print(hour, charge)"
      ],
      "metadata": {
        "colab": {
          "base_uri": "https://localhost:8080/"
        },
        "id": "59PUq3fJ2wSp",
        "outputId": "3a3791ea-5e49-4622-c4bb-63c62a3f8a5b"
      },
      "execution_count": 10,
      "outputs": [
        {
          "output_type": "stream",
          "name": "stdout",
          "text": [
            "1 10\n",
            "2 12.5\n",
            "3 17.5\n",
            "4 20\n",
            "5 20\n",
            "6 20\n",
            "7 20\n",
            "8 20\n"
          ]
        }
      ]
    },
    {
      "cell_type": "code",
      "source": [
        "# Movie theater\n",
        "\n",
        "r = int(input('how many rounds: '))\n",
        "d = float(input('Ad dollars: '))\n",
        "\n",
        "ad = 2 * ((r * d) ** .5)\n",
        "\n",
        "for ad in range(0, 201, 25):\n",
        "  profit = (20 + ad) * 10 - 200 - ad\n",
        "  print(ad, profit)"
      ],
      "metadata": {
        "colab": {
          "base_uri": "https://localhost:8080/"
        },
        "id": "wYT8RfBo2yos",
        "outputId": "c8f0b815-9e1b-4c47-cc6e-de7c514d68df"
      },
      "execution_count": 9,
      "outputs": [
        {
          "output_type": "stream",
          "name": "stdout",
          "text": [
            "how many rounds: 3\n",
            "Ad dollars: 4\n",
            "0 0\n",
            "25 225\n",
            "50 450\n",
            "75 675\n",
            "100 900\n",
            "125 1125\n",
            "150 1350\n",
            "175 1575\n",
            "200 1800\n"
          ]
        }
      ]
    },
    {
      "cell_type": "code",
      "source": [
        "# Months2Numbers dictionary\n",
        "\n",
        "months = {}\n",
        "\n",
        "names = ['Jan', 'Feb', 'Mar', 'Apr', 'May', 'Jun', 'Jul', 'Aug', 'Sep', 'Oct', 'Nov', 'Dec']\n",
        "number = [1,2,3,4,5,6,7,8,9,10,11,12]\n",
        "\n",
        "for i in range(len(number)):\n",
        "  months[number[i]] = names[i]\n",
        "\n",
        "print(months)"
      ],
      "metadata": {
        "colab": {
          "base_uri": "https://localhost:8080/"
        },
        "id": "WecwY_uN23Cf",
        "outputId": "1cb0fbb9-2758-44c6-9a08-35e4a14e6a6c"
      },
      "execution_count": 8,
      "outputs": [
        {
          "output_type": "stream",
          "name": "stdout",
          "text": [
            "{1: 'Jan', 2: 'Feb', 3: 'Mar', 4: 'Apr', 5: 'May', 6: 'Jun', 7: 'Jul', 8: 'Aug', 9: 'Sep', 10: 'Oct', 11: 'Nov', 12: 'Dec'}\n"
          ]
        }
      ]
    },
    {
      "cell_type": "code",
      "source": [
        "# Fee calculation and display functions\n",
        "\n",
        "def displayFee(fee):\n",
        "  print(fee)\n",
        "\n",
        "def calcFee(hours, decimals=2):\n",
        "  fee = round(5 + hours * 2.5, decimals)\n",
        "  return fee\n",
        "\n",
        "def main():\n",
        "  hours_parked = int(input('Enter hours: '))\n",
        "  f = calcFee(hours_parked)\n",
        "  displayFee(f)\n",
        "\n",
        "if __name__ == '__main__':\n",
        "  main()"
      ],
      "metadata": {
        "colab": {
          "base_uri": "https://localhost:8080/"
        },
        "id": "mvPbcd-229aA",
        "outputId": "5cdbf4a8-49a9-45d7-bb70-c73dd053072d"
      },
      "execution_count": 16,
      "outputs": [
        {
          "output_type": "stream",
          "name": "stdout",
          "text": [
            "Enter hours: 4\n",
            "15.0\n"
          ]
        }
      ]
    },
    {
      "cell_type": "code",
      "source": [
        "# Reverse function (recursion)\n",
        "\n",
        "def rev(s):\n",
        "  if len(s) == 1:\n",
        "    return s\n",
        "  else:\n",
        "    return s[-1] + rev(s[1:-1]) + s[0]\n",
        "    #OR return rev(s[1:]) + s[0]\n",
        "    #OR return s[-1] + rev(s[:-1])\n",
        "\n",
        "rev('hello world')"
      ],
      "metadata": {
        "colab": {
          "base_uri": "https://localhost:8080/",
          "height": 35
        },
        "id": "2tHJ6hB-2_8f",
        "outputId": "0b123c5c-e4e0-4f6b-8f02-e29794141f46"
      },
      "execution_count": 7,
      "outputs": [
        {
          "output_type": "execute_result",
          "data": {
            "text/plain": [
              "'dlrow olleh'"
            ],
            "application/vnd.google.colaboratory.intrinsic+json": {
              "type": "string"
            }
          },
          "metadata": {},
          "execution_count": 7
        }
      ]
    },
    {
      "cell_type": "code",
      "source": [
        "# Student class\n",
        "\n",
        "class Student:\n",
        "  def __init__(self, name, number):\n",
        "    self.name = name\n",
        "    self.number = number\n",
        "    self.courses = []\n",
        "\n",
        "  def enroll(self, course):\n",
        "    if course not in self.courses:\n",
        "      self.courses.append(course)\n",
        "    else:\n",
        "      print(f'You have already enrolled in course: {course}')\n",
        "\n",
        "  def get_courses(self):\n",
        "    return self.courses"
      ],
      "metadata": {
        "id": "8WJJ6O0m3CiY"
      },
      "execution_count": 2,
      "outputs": []
    },
    {
      "cell_type": "code",
      "source": [
        "s = Student('Bob', '123')"
      ],
      "metadata": {
        "id": "gS9kplBV5tBG"
      },
      "execution_count": 3,
      "outputs": []
    },
    {
      "cell_type": "code",
      "source": [
        "s.enroll('ABC123')\n",
        "s.enroll('ABS456')\n",
        "s.enroll('ABC789')"
      ],
      "metadata": {
        "id": "q8b0EC605u-n"
      },
      "execution_count": 4,
      "outputs": []
    },
    {
      "cell_type": "code",
      "source": [
        "s.get_courses()"
      ],
      "metadata": {
        "colab": {
          "base_uri": "https://localhost:8080/"
        },
        "id": "McJ3pkDy5vbg",
        "outputId": "1bf96834-3832-432e-b036-95823cdbf718"
      },
      "execution_count": 5,
      "outputs": [
        {
          "output_type": "execute_result",
          "data": {
            "text/plain": [
              "['ABC123', 'ABS456', 'ABC789']"
            ]
          },
          "metadata": {},
          "execution_count": 5
        }
      ]
    },
    {
      "cell_type": "code",
      "source": [
        "s.enroll('ABC123')"
      ],
      "metadata": {
        "colab": {
          "base_uri": "https://localhost:8080/"
        },
        "id": "60jaRIkg5xmD",
        "outputId": "d5b41361-b96e-4b76-8572-964214680d60"
      },
      "execution_count": 6,
      "outputs": [
        {
          "output_type": "stream",
          "name": "stdout",
          "text": [
            "You have already enrolled in course: ABC123\n"
          ]
        }
      ]
    }
  ]
}