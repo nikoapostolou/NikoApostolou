{
  "nbformat": 4,
  "nbformat_minor": 0,
  "metadata": {
    "colab": {
      "provenance": [],
      "authorship_tag": "ABX9TyNsbHdOKqzsO1dhmy4fLnn+",
      "include_colab_link": true
    },
    "kernelspec": {
      "name": "python3",
      "display_name": "Python 3"
    },
    "language_info": {
      "name": "python"
    }
  },
  "cells": [
    {
      "cell_type": "markdown",
      "metadata": {
        "id": "view-in-github",
        "colab_type": "text"
      },
      "source": [
        "<a href=\"https://colab.research.google.com/github/nikoapostolou/NikoApostolou/blob/main/InClassAssignmentBTE320.ipynb\" target=\"_parent\"><img src=\"https://colab.research.google.com/assets/colab-badge.svg\" alt=\"Open In Colab\"/></a>"
      ]
    },
    {
      "cell_type": "code",
      "execution_count": null,
      "metadata": {
        "id": "nrpSNa_JDvnB",
        "colab": {
          "base_uri": "https://localhost:8080/"
        },
        "outputId": "f2e059a5-c48a-4b21-c039-93bc9de974aa"
      },
      "outputs": [
        {
          "output_type": "execute_result",
          "data": {
            "text/plain": [
              "5"
            ]
          },
          "metadata": {},
          "execution_count": 1
        }
      ],
      "source": [
        "2 + 3"
      ]
    },
    {
      "cell_type": "code",
      "source": [
        "7 - 6"
      ],
      "metadata": {
        "colab": {
          "base_uri": "https://localhost:8080/"
        },
        "id": "4llaIMglXghN",
        "outputId": "375a4f0d-6cdf-434f-82df-c993944312f1"
      },
      "execution_count": null,
      "outputs": [
        {
          "output_type": "execute_result",
          "data": {
            "text/plain": [
              "1"
            ]
          },
          "metadata": {},
          "execution_count": 2
        }
      ]
    },
    {
      "cell_type": "code",
      "source": [
        "4 / 2"
      ],
      "metadata": {
        "colab": {
          "base_uri": "https://localhost:8080/"
        },
        "id": "yojuiBy5Xj3T",
        "outputId": "e9fbefa1-30e1-44aa-dabd-69cf24c6f036"
      },
      "execution_count": null,
      "outputs": [
        {
          "output_type": "execute_result",
          "data": {
            "text/plain": [
              "2.0"
            ]
          },
          "metadata": {},
          "execution_count": 4
        }
      ]
    },
    {
      "cell_type": "code",
      "source": [
        "5 // 2"
      ],
      "metadata": {
        "colab": {
          "base_uri": "https://localhost:8080/"
        },
        "id": "JNGPR0GjXrkP",
        "outputId": "697a416b-ef68-4b00-feff-1659242cd182"
      },
      "execution_count": null,
      "outputs": [
        {
          "output_type": "execute_result",
          "data": {
            "text/plain": [
              "2"
            ]
          },
          "metadata": {},
          "execution_count": 5
        }
      ]
    },
    {
      "cell_type": "code",
      "source": [
        "y = 5\n",
        "y != 5"
      ],
      "metadata": {
        "colab": {
          "base_uri": "https://localhost:8080/"
        },
        "id": "8pY3MfSuZLnz",
        "outputId": "13cfedd9-cd75-4d62-8bfe-3230dcf0a75d"
      },
      "execution_count": null,
      "outputs": [
        {
          "output_type": "execute_result",
          "data": {
            "text/plain": [
              "False"
            ]
          },
          "metadata": {},
          "execution_count": 9
        }
      ]
    },
    {
      "cell_type": "code",
      "source": [
        "a = 2 > 3\n",
        "b = 5 == 5\n",
        "\n",
        "a and b\n"
      ],
      "metadata": {
        "colab": {
          "base_uri": "https://localhost:8080/"
        },
        "id": "3CNPI-HHcGzQ",
        "outputId": "f643d198-fba2-4fe6-a349-864c1df364d4"
      },
      "execution_count": null,
      "outputs": [
        {
          "output_type": "execute_result",
          "data": {
            "text/plain": [
              "False"
            ]
          },
          "metadata": {},
          "execution_count": 15
        }
      ]
    },
    {
      "cell_type": "code",
      "source": [
        "r = 5\n",
        "pi = 3.14\n",
        "area = pi * r ** 2\n",
        "print('Area is', area, 'square feet', end='\\n')\n",
        "print('Area is %.1f square feet' % area)\n",
        "print('Area is {} square feet'.format(area))\n",
        "print(f'Area is {area} square feet')\n",
        "print ('Program Ends...')\n"
      ],
      "metadata": {
        "colab": {
          "base_uri": "https://localhost:8080/"
        },
        "id": "LJc8KU2k_ENh",
        "outputId": "decb8e82-2c78-4a35-e6c2-df9ce37faf52"
      },
      "execution_count": null,
      "outputs": [
        {
          "output_type": "stream",
          "name": "stdout",
          "text": [
            "Area is 78.5 square feet\n",
            "Area is 78.5 square feet\n",
            "Area is 78.5 square feet\n",
            "Area is 78.5 square feet\n",
            "Program Ends...\n"
          ]
        }
      ]
    },
    {
      "cell_type": "code",
      "source": [
        "r = 3\n",
        "h = 10\n",
        "pi = 3.14\n",
        "area = 2 * pi * r ** 2 + 2 * pi * r * h\n",
        "print(area)"
      ],
      "metadata": {
        "colab": {
          "base_uri": "https://localhost:8080/"
        },
        "id": "D0udQ_uGBsjS",
        "outputId": "1d9c9c02-e31a-44a1-958e-5ae9d4b6f076"
      },
      "execution_count": null,
      "outputs": [
        {
          "output_type": "stream",
          "name": "stdout",
          "text": [
            "244.92000000000002\n"
          ]
        }
      ]
    },
    {
      "cell_type": "code",
      "source": [
        "x = 3\n",
        "y = 5.4\n",
        "s = 'abc'\n",
        "print(x, y, s)"
      ],
      "metadata": {
        "colab": {
          "base_uri": "https://localhost:8080/"
        },
        "id": "SLsvUpXoQ80c",
        "outputId": "f99c1b83-98eb-4d81-c0b5-df4ca821f4af"
      },
      "execution_count": null,
      "outputs": [
        {
          "output_type": "stream",
          "name": "stdout",
          "text": [
            "3 5.4 abc\n"
          ]
        }
      ]
    },
    {
      "cell_type": "code",
      "source": [
        "pi = 3.14\n",
        "r = float(input('Provide a value for the radius (in ft): '))\n",
        "\n",
        "area = pi * r ** 2\n",
        "print(f'Area is {area} square feet.')"
      ],
      "metadata": {
        "colab": {
          "base_uri": "https://localhost:8080/"
        },
        "id": "7mu54lMWdhQp",
        "outputId": "dd6cae86-831c-4fad-c095-816916303ff9"
      },
      "execution_count": null,
      "outputs": [
        {
          "output_type": "stream",
          "name": "stdout",
          "text": [
            "Provide a value for the radius (in ft): 12\n",
            "Area is 452.16 square feet.\n"
          ]
        }
      ]
    },
    {
      "cell_type": "code",
      "source": [
        "# Shape Volume Calculator\n",
        "\n",
        "pi = 3.14\n",
        "r = float(input(\"Provide a value for the radius (in ft): \"))\n",
        "c = float(input(\"Provide a value for side: \"))\n",
        "h = float(input(\"Provide a value for height: \"))\n",
        "shape = 'cylinder'\n",
        "\n",
        "if shape == 'circle':\n",
        "  area = pi * r ** 2\n",
        "  print(f'Area is {area} sq ft.')\n",
        "\n",
        "elif shape == 'sq':\n",
        "  area = c ** 2\n",
        "  print(f'Area is {area} sq ft.')\n",
        "\n",
        "elif shape =='triangle':\n",
        "  area = .5 * c * h\n",
        "  print(f'Area is {area} sq ft.')\n",
        "\n",
        "elif shape == 'cylinder':\n",
        "  area = 2 * pi * r * h + 2 * pi * r ** 2\n",
        "  print(f'Area is {area} sq ft.')\n",
        "\n",
        "print(\"Program Ends...\")"
      ],
      "metadata": {
        "colab": {
          "base_uri": "https://localhost:8080/"
        },
        "id": "vnRdsRGjYjIH",
        "outputId": "116aaef9-fbba-4788-bf41-ea9331454274"
      },
      "execution_count": null,
      "outputs": [
        {
          "output_type": "stream",
          "name": "stdout",
          "text": [
            "Provide a value for the radius (in ft): 5\n",
            "Provide a value for side: 6\n",
            "Provide a value for height: 7\n",
            "Area is 376.8 sq ft.\n",
            "Program Ends...\n"
          ]
        }
      ]
    },
    {
      "cell_type": "code",
      "source": [
        "# Grade Calculator\n",
        "\n",
        "grade = 44\n",
        "\n",
        "if grade >= 97:\n",
        "  print('A+')\n",
        "\n",
        "elif grade >= 93:\n",
        "  print('A+')\n",
        "\n",
        "elif grade >= 90:\n",
        "  print('A-')\n",
        "\n",
        "elif grade >= 87:\n",
        "  print('B+')\n",
        "\n",
        "elif grade >= 83:\n",
        "  print('B')\n",
        "\n",
        "elif grade >= 80:\n",
        "  print('B-')\n",
        "\n",
        "elif grade >= 77:\n",
        "  print('C+')\n",
        "\n",
        "elif grade >= 73:\n",
        "  print('C')\n",
        "\n",
        "elif grade >= 70:\n",
        "  print('C-')\n",
        "\n",
        "elif grade >= 67:\n",
        "  print('D+')\n",
        "\n",
        "elif grade >= 64:\n",
        "  print('D')\n",
        "\n",
        "elif grade >= 60:\n",
        "  print('D-')\n",
        "\n",
        "else:\n",
        "  print('F')\n"
      ],
      "metadata": {
        "colab": {
          "base_uri": "https://localhost:8080/"
        },
        "id": "wccTis2PZJbp",
        "outputId": "0e401053-07cd-4e65-d611-b588f9e010c2"
      },
      "execution_count": null,
      "outputs": [
        {
          "output_type": "stream",
          "name": "stdout",
          "text": [
            "F\n"
          ]
        }
      ]
    },
    {
      "cell_type": "code",
      "source": [
        "# Investment Assignment (Compunding if statements)\n",
        "\n",
        "amount = float(input('Give initial amount ($): '))\n",
        "n_years = int(input('Give years of investment: '))\n",
        "customer_type = input('Type of custoemr (n->new, e->existing): ')\n",
        "\n",
        "if amount > 10000 and customer_type == 'e':\n",
        "  return_amount = (1 + 0.035) ** n_years * amount\n",
        "\n",
        "elif amount > 1000 and customer_type == 'e':\n",
        "  return_amount = (1 + 0.0325) ** n_years * amount\n",
        "\n",
        "elif amount <= 1000 and customer_type == 'e':\n",
        "  return_amount = (1 + 0.03) ** n_years * amount\n",
        "\n",
        "elif customer_type == 'n':\n",
        "  return_amount = (1 + 0.04) ** n_years * amount\n",
        "\n",
        "print(return_amount)"
      ],
      "metadata": {
        "colab": {
          "base_uri": "https://localhost:8080/"
        },
        "id": "jnRSmuNfiP7e",
        "outputId": "1eb35912-c9b0-43c4-f2ad-deb11844eecb"
      },
      "execution_count": null,
      "outputs": [
        {
          "output_type": "stream",
          "name": "stdout",
          "text": [
            "Give initial amount ($): 1000\n",
            "Give years of investment: 5\n",
            "Type of custoemr (n->new, e->existing): e\n",
            "1159.2740743000002\n"
          ]
        }
      ]
    },
    {
      "cell_type": "code",
      "source": [
        "# Investment Assignment (Nested if statements)\n",
        "\n",
        "if customer_type == 'e':\n",
        "  if amount > 1000:\n",
        "    return_amount = (1 + 0.035) ** n_years * amount\n",
        "  elif amount > 1000:\n",
        "    return_amount = (1 + 0.0325) ** n_years * amount\n",
        "  else:\n",
        "    return_amount = (1 + 0.03) ** n_years * amount\n",
        "else:\n",
        "  return_amount = (1 + 0.04) ** n_years * amount"
      ],
      "metadata": {
        "id": "YLlIuoYMEMvr"
      },
      "execution_count": null,
      "outputs": []
    },
    {
      "cell_type": "code",
      "source": [
        "# Rock Paper Scissors Assignment\n",
        "\n",
        "p1 = input('Player 1 - Choose rock, paper, or scissors: ')\n",
        "p2 = input('Player 2 - Choose rock, paper, or scissors: ')\n",
        "\n",
        "if p1 == p2:\n",
        "  print('Draw')\n",
        "elif (p1 == 'rock' and p2 == 'scissors') or (p1 == 'scissors' and p2 == 'paper') or (p1 == 'paper' and p2 == 'rock'):\n",
        "  print('Player 1 wins')\n",
        "else:\n",
        "  print('Player 2 wins')"
      ],
      "metadata": {
        "colab": {
          "base_uri": "https://localhost:8080/"
        },
        "id": "ANyW5IqcPLM7",
        "outputId": "0af98f8b-937f-41aa-94de-53274de5a351"
      },
      "execution_count": null,
      "outputs": [
        {
          "output_type": "stream",
          "name": "stdout",
          "text": [
            "Player 1 - Choose rock, paper, or scissors: 5\n",
            "Player 2 - Choose rock, paper, or scissors: 5\n",
            "Draw\n"
          ]
        }
      ]
    },
    {
      "cell_type": "code",
      "source": [
        "# Calculator Assignment\n",
        "\n",
        "n1 = float(input('Number: '))\n",
        "n2 = float(input('Number: '))\n",
        "s = str(input('Choose operation +, -, *, /, **: '))\n",
        "\n",
        "\n",
        "if s == '+':\n",
        "  a = n1 + n2\n",
        "  print(f'The answer is: {a}')\n",
        "elif s == '-':\n",
        "  a = n1 - n2\n",
        "  print(f'The answer is: {a}')\n",
        "elif s == '*':\n",
        "  a = n1 * n2\n",
        "  print(f'The answer is: {a}')\n",
        "elif s == '/':\n",
        "  a = n1 / n2\n",
        "  print(f'The answer is: {a}')\n",
        "elif s == '**':\n",
        "  a = n1 ** n2\n",
        "  print(f'The answer is: {a}')\n",
        "else:\n",
        "  print('Error')"
      ],
      "metadata": {
        "colab": {
          "base_uri": "https://localhost:8080/"
        },
        "id": "1-_ygecAW0ex",
        "outputId": "ade63a10-53be-4102-c1f6-262f10da2d80"
      },
      "execution_count": null,
      "outputs": [
        {
          "output_type": "stream",
          "name": "stdout",
          "text": [
            "Number: 5\n",
            "Number: 5\n",
            "Choose operation +, -, *, /, **: *\n",
            "The answer is: 25.0\n"
          ]
        }
      ]
    },
    {
      "cell_type": "code",
      "source": [
        "for i in range(0, 11, 2):\n",
        "  print(i, end=' ')"
      ],
      "metadata": {
        "colab": {
          "base_uri": "https://localhost:8080/"
        },
        "id": "bv181CtdjgZf",
        "outputId": "262fb602-7f70-411c-eb01-b934625b95b4"
      },
      "execution_count": null,
      "outputs": [
        {
          "output_type": "stream",
          "name": "stdout",
          "text": [
            "0 2 4 6 8 10 "
          ]
        }
      ]
    },
    {
      "cell_type": "code",
      "source": [
        "from ColabTurtlePlus.Turtle import *\n",
        "\n",
        "clearscreen()\n",
        "\n",
        "reset = True\n",
        "\n",
        "if reset:\n",
        "  clear()\n",
        "\n",
        "color('black', 'green')\n",
        "shape('blank')\n",
        "begin_fill()\n",
        "jumpto(0,0)\n",
        "\n",
        "forward(100)\n",
        "left(90)\n",
        "forward(100)\n",
        "left(90)\n",
        "forward(100)\n",
        "left(90)\n",
        "forward(100)\n",
        "left(90)\n",
        "\n",
        "penup()\n",
        "end_fill()"
      ],
      "metadata": {
        "colab": {
          "base_uri": "https://localhost:8080/",
          "height": 393
        },
        "id": "VwidN_YbdH9y",
        "outputId": "269a6179-fd7d-4633-ef7b-8c8daee6826a"
      },
      "execution_count": null,
      "outputs": [
        {
          "output_type": "error",
          "ename": "ModuleNotFoundError",
          "evalue": "No module named 'ColabTurtlePlus'",
          "traceback": [
            "\u001b[0;31m---------------------------------------------------------------------------\u001b[0m",
            "\u001b[0;31mModuleNotFoundError\u001b[0m                       Traceback (most recent call last)",
            "\u001b[0;32m<ipython-input-14-a76b61ac498e>\u001b[0m in \u001b[0;36m<cell line: 1>\u001b[0;34m()\u001b[0m\n\u001b[0;32m----> 1\u001b[0;31m \u001b[0;32mfrom\u001b[0m \u001b[0mColabTurtlePlus\u001b[0m\u001b[0;34m.\u001b[0m\u001b[0mTurtle\u001b[0m \u001b[0;32mimport\u001b[0m \u001b[0;34m*\u001b[0m\u001b[0;34m\u001b[0m\u001b[0;34m\u001b[0m\u001b[0m\n\u001b[0m\u001b[1;32m      2\u001b[0m \u001b[0;34m\u001b[0m\u001b[0m\n\u001b[1;32m      3\u001b[0m \u001b[0mclearscreen\u001b[0m\u001b[0;34m(\u001b[0m\u001b[0;34m)\u001b[0m\u001b[0;34m\u001b[0m\u001b[0;34m\u001b[0m\u001b[0m\n\u001b[1;32m      4\u001b[0m \u001b[0;34m\u001b[0m\u001b[0m\n\u001b[1;32m      5\u001b[0m \u001b[0mreset\u001b[0m \u001b[0;34m=\u001b[0m \u001b[0;32mTrue\u001b[0m\u001b[0;34m\u001b[0m\u001b[0;34m\u001b[0m\u001b[0m\n",
            "\u001b[0;31mModuleNotFoundError\u001b[0m: No module named 'ColabTurtlePlus'",
            "",
            "\u001b[0;31m---------------------------------------------------------------------------\u001b[0;32m\nNOTE: If your import is failing due to a missing package, you can\nmanually install dependencies using either !pip or !apt.\n\nTo view examples of installing some common dependencies, click the\n\"Open Examples\" button below.\n\u001b[0;31m---------------------------------------------------------------------------\u001b[0m\n"
          ],
          "errorDetails": {
            "actions": [
              {
                "action": "open_url",
                "actionText": "Open Examples",
                "url": "/notebooks/snippets/importing_libraries.ipynb"
              }
            ]
          }
        }
      ]
    },
    {
      "cell_type": "code",
      "source": [
        "for i in range(0, 11, 2):\n",
        "  print(i, end=' ')"
      ],
      "metadata": {
        "colab": {
          "base_uri": "https://localhost:8080/"
        },
        "id": "e_zb-gVxG_K5",
        "outputId": "55f06dc7-c18f-47ff-96fe-2611ea391170"
      },
      "execution_count": null,
      "outputs": [
        {
          "output_type": "stream",
          "name": "stdout",
          "text": [
            "0 2 4 6 8 10 "
          ]
        }
      ]
    },
    {
      "cell_type": "code",
      "source": [
        "i = 0\n",
        "while i < 11:\n",
        "  print(i, end=' ')\n",
        "  i = i + 2"
      ],
      "metadata": {
        "colab": {
          "base_uri": "https://localhost:8080/"
        },
        "id": "A2ArX4ryJ8qA",
        "outputId": "b5b22496-2411-4b7f-c113-5b9f0e0ae81a"
      },
      "execution_count": null,
      "outputs": [
        {
          "output_type": "stream",
          "name": "stdout",
          "text": [
            "0 2 4 6 8 10 "
          ]
        }
      ]
    },
    {
      "cell_type": "code",
      "source": [
        "choice = input('...')\n",
        "\n",
        "while choice == 'value':\n",
        "  ...\n",
        "  choice = input('...')"
      ],
      "metadata": {
        "id": "WEW3dd6sN7Xv"
      },
      "execution_count": null,
      "outputs": []
    },
    {
      "cell_type": "code",
      "source": [
        "# Rock Paper Scissors Modified\n",
        "import random\n",
        "choice = str(input('Do you want to play a game? ')).lower()\n",
        "\n",
        "while choice == 'yes':\n",
        "  p1 = input('Player 1 - Choose rock, paper, or scissors: ').lower()\n",
        "  p2 = random.choice(['rock', 'paper', 'scissors'])\n",
        "  print(f'Computer chose {p2}.')\n",
        "  if p1 == p2:\n",
        "    print('Draw')\n",
        "  elif (p1 == 'rock' and p2 == 'scissors') or (p1 == 'scissors' and p2 == 'paper') or (p1 == 'paper' and p2 == 'rock'):\n",
        "   print('Player 1 wins')\n",
        "  else:\n",
        "    print('Player 2 wins')\n",
        "\n",
        "  choice = str(input('Do you want to play another game? '))"
      ],
      "metadata": {
        "colab": {
          "base_uri": "https://localhost:8080/"
        },
        "id": "twxgL-k6ObMQ",
        "outputId": "63e98d64-cd64-4eba-fc68-33c0afc0702f"
      },
      "execution_count": null,
      "outputs": [
        {
          "output_type": "stream",
          "name": "stdout",
          "text": [
            "Do you want to play a game? yes\n",
            "Player 1 - Choose rock, paper, or scissors: rock\n",
            "Computer chose rock.\n",
            "Draw\n"
          ]
        }
      ]
    }
  ]
}